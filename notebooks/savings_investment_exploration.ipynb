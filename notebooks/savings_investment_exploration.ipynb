{
 "cells": [
  {
   "cell_type": "markdown",
   "id": "6e2ac41b",
   "metadata": {},
   "source": [
    "# UK ISA, Savings & Investment Data Exploration\n",
    "Author: Jayen Hirani </br>\n",
    "Date: 25/07/2025"
   ]
  },
  {
   "cell_type": "markdown",
   "id": "7930197d",
   "metadata": {},
   "source": [
    "### Setup"
   ]
  },
  {
   "cell_type": "code",
   "execution_count": 7,
   "id": "3e394751",
   "metadata": {},
   "outputs": [
    {
     "name": "stdout",
     "output_type": "stream",
     "text": [
      "Defaulting to user installation because normal site-packages is not writeable\n",
      "Requirement already satisfied: pandas in c:\\users\\jayen\\appdata\\roaming\\python\\python313\\site-packages (2.3.1)\n",
      "Requirement already satisfied: numpy in c:\\users\\jayen\\appdata\\roaming\\python\\python313\\site-packages (2.3.2)\n",
      "Requirement already satisfied: plotly in c:\\users\\jayen\\appdata\\roaming\\python\\python313\\site-packages (6.2.0)\n",
      "Collecting odfpy\n",
      "  Downloading odfpy-1.4.1.tar.gz (717 kB)\n",
      "     ---------------------------------------- 0.0/717.0 kB ? eta -:--:--\n",
      "     ------------------------------------- 717.0/717.0 kB 22.6 MB/s eta 0:00:00\n",
      "  Installing build dependencies: started\n",
      "  Installing build dependencies: finished with status 'done'\n",
      "  Getting requirements to build wheel: started\n",
      "  Getting requirements to build wheel: finished with status 'done'\n",
      "  Preparing metadata (pyproject.toml): started\n",
      "  Preparing metadata (pyproject.toml): finished with status 'done'\n",
      "Requirement already satisfied: python-dateutil>=2.8.2 in c:\\users\\jayen\\appdata\\roaming\\python\\python313\\site-packages (from pandas) (2.9.0.post0)\n",
      "Requirement already satisfied: pytz>=2020.1 in c:\\users\\jayen\\appdata\\roaming\\python\\python313\\site-packages (from pandas) (2025.2)\n",
      "Requirement already satisfied: tzdata>=2022.7 in c:\\users\\jayen\\appdata\\roaming\\python\\python313\\site-packages (from pandas) (2025.2)\n",
      "Requirement already satisfied: narwhals>=1.15.1 in c:\\users\\jayen\\appdata\\roaming\\python\\python313\\site-packages (from plotly) (1.48.1)\n",
      "Requirement already satisfied: packaging in c:\\users\\jayen\\appdata\\roaming\\python\\python313\\site-packages (from plotly) (25.0)\n",
      "Collecting defusedxml (from odfpy)\n",
      "  Downloading defusedxml-0.7.1-py2.py3-none-any.whl.metadata (32 kB)\n",
      "Requirement already satisfied: six>=1.5 in c:\\users\\jayen\\appdata\\roaming\\python\\python313\\site-packages (from python-dateutil>=2.8.2->pandas) (1.17.0)\n",
      "Downloading defusedxml-0.7.1-py2.py3-none-any.whl (25 kB)\n",
      "Building wheels for collected packages: odfpy\n",
      "  Building wheel for odfpy (pyproject.toml): started\n",
      "  Building wheel for odfpy (pyproject.toml): finished with status 'done'\n",
      "  Created wheel for odfpy: filename=odfpy-1.4.1-py2.py3-none-any.whl size=137565 sha256=4b8526bf66356a4e0c75d75089777fba70d0133b42adffddd3c9e52e9b09be77\n",
      "  Stored in directory: c:\\users\\jayen\\appdata\\local\\pip\\cache\\wheels\\8e\\cd\\9f\\979443982946991080916064e4c049b91941be1800825ff74b\n",
      "Successfully built odfpy\n",
      "Installing collected packages: defusedxml, odfpy\n",
      "\n",
      "   ---------------------------------------- 0/2 [defusedxml]\n",
      "   -------------------- ------------------- 1/2 [odfpy]\n",
      "   -------------------- ------------------- 1/2 [odfpy]\n",
      "   -------------------- ------------------- 1/2 [odfpy]\n",
      "   -------------------- ------------------- 1/2 [odfpy]\n",
      "   ---------------------------------------- 2/2 [odfpy]\n",
      "\n",
      "Successfully installed defusedxml-0.7.1 odfpy-1.4.1\n",
      "Note: you may need to restart the kernel to use updated packages.\n"
     ]
    }
   ],
   "source": [
    "# Install necessary packages\n",
    "%pip install pandas numpy plotly odfpy"
   ]
  },
  {
   "cell_type": "code",
   "execution_count": 5,
   "id": "ebaa6a6d",
   "metadata": {},
   "outputs": [],
   "source": [
    "# Import Packages\n",
    "import pandas as pd\n",
    "import numpy as np\n",
    "import plotly.express as px"
   ]
  },
  {
   "cell_type": "markdown",
   "id": "b6922d3e",
   "metadata": {},
   "source": [
    "### Call UK Annual Savings Data\n",
    "Source: https://www.gov.uk/government/statistics/annual-savings-statistics-2024"
   ]
  },
  {
   "cell_type": "code",
   "execution_count": 22,
   "id": "d3a9f68f",
   "metadata": {},
   "outputs": [],
   "source": [
    "# Call UK Annual Savings Data\n",
    "savings_data = pd.read_excel('../data/Individual_Savings_Account_Tables_2024.ods', \n",
    "                             engine='odf',\n",
    "                             sheet_name='9_8_ISA_subs_by_age_sex',\n",
    "                             skiprows=5)\n",
    "\n",
    "# Drop the last two rows which are not needed\n",
    "savings_data = savings_data.drop(savings_data.index[-2:])\n",
    "\n",
    "# Split the \"Type of ISA\" column into \"Gender\" and \"Age Range\" bassed on the string pattern\n",
    "savings_data = savings_data"
   ]
  },
  {
   "cell_type": "code",
   "execution_count": 20,
   "id": "35fb55cc",
   "metadata": {},
   "outputs": [
    {
     "data": {
      "application/vnd.microsoft.datawrangler.viewer.v0+json": {
       "columns": [
        {
         "name": "index",
         "rawType": "int64",
         "type": "integer"
        },
        {
         "name": "Type of ISA",
         "rawType": "object",
         "type": "string"
        },
        {
         "name": "Cash ISA(thousands)",
         "rawType": "float64",
         "type": "float"
        },
        {
         "name": "Stocks & Shares ISA(thousands)",
         "rawType": "float64",
         "type": "float"
        },
        {
         "name": "Stocks & Shares and Cash ISA(thousands)",
         "rawType": "float64",
         "type": "float"
        },
        {
         "name": "All Subscriptions(thousands)",
         "rawType": "float64",
         "type": "float"
        },
        {
         "name": "No further subscription(thousands)",
         "rawType": "float64",
         "type": "float"
        },
        {
         "name": "All ISA Holders(thousands)",
         "rawType": "float64",
         "type": "float"
        }
       ],
       "ref": "96af47bb-de83-4529-a161-bf10949068e1",
       "rows": [
        [
         "15",
         "25-34",
         "1440505.4019000547",
         "620832.8350681028",
         "176979.465",
         "2238317.701968157",
         "1245049.1594211594",
         "3483366.8613893166"
        ],
        [
         "16",
         "35-44",
         "1064738.361075822",
         "499827.0565258637",
         "108218.295",
         "1672783.7126016857",
         "1727459.1862312357",
         "3400242.8988329214"
        ],
        [
         "17",
         "45-54",
         "925089.2857020812",
         "590957.7544243158",
         "88426.11",
         "1604473.150126397",
         "1886546.953155659",
         "3491020.103282056"
        ],
        [
         "18",
         "55-64",
         "991336.2780244906",
         "657121.5658135596",
         "89151.465",
         "1737609.30883805",
         "2171110.780689776",
         "3908720.0895278263"
        ],
        [
         "19",
         "65 and over",
         "1321999.5469047509",
         "659437.5086986793",
         "66215.295",
         "2047652.35060343",
         "4275304.623810388",
         "6322956.974413818"
        ]
       ],
       "shape": {
        "columns": 7,
        "rows": 5
       }
      },
      "text/html": [
       "<div>\n",
       "<style scoped>\n",
       "    .dataframe tbody tr th:only-of-type {\n",
       "        vertical-align: middle;\n",
       "    }\n",
       "\n",
       "    .dataframe tbody tr th {\n",
       "        vertical-align: top;\n",
       "    }\n",
       "\n",
       "    .dataframe thead th {\n",
       "        text-align: right;\n",
       "    }\n",
       "</style>\n",
       "<table border=\"1\" class=\"dataframe\">\n",
       "  <thead>\n",
       "    <tr style=\"text-align: right;\">\n",
       "      <th></th>\n",
       "      <th>Type of ISA</th>\n",
       "      <th>Cash ISA(thousands)</th>\n",
       "      <th>Stocks &amp; Shares ISA(thousands)</th>\n",
       "      <th>Stocks &amp; Shares and Cash ISA(thousands)</th>\n",
       "      <th>All Subscriptions(thousands)</th>\n",
       "      <th>No further subscription(thousands)</th>\n",
       "      <th>All ISA Holders(thousands)</th>\n",
       "    </tr>\n",
       "  </thead>\n",
       "  <tbody>\n",
       "    <tr>\n",
       "      <th>15</th>\n",
       "      <td>25-34</td>\n",
       "      <td>1.440505e+06</td>\n",
       "      <td>620832.835068</td>\n",
       "      <td>176979.465</td>\n",
       "      <td>2.238318e+06</td>\n",
       "      <td>1.245049e+06</td>\n",
       "      <td>3.483367e+06</td>\n",
       "    </tr>\n",
       "    <tr>\n",
       "      <th>16</th>\n",
       "      <td>35-44</td>\n",
       "      <td>1.064738e+06</td>\n",
       "      <td>499827.056526</td>\n",
       "      <td>108218.295</td>\n",
       "      <td>1.672784e+06</td>\n",
       "      <td>1.727459e+06</td>\n",
       "      <td>3.400243e+06</td>\n",
       "    </tr>\n",
       "    <tr>\n",
       "      <th>17</th>\n",
       "      <td>45-54</td>\n",
       "      <td>9.250893e+05</td>\n",
       "      <td>590957.754424</td>\n",
       "      <td>88426.110</td>\n",
       "      <td>1.604473e+06</td>\n",
       "      <td>1.886547e+06</td>\n",
       "      <td>3.491020e+06</td>\n",
       "    </tr>\n",
       "    <tr>\n",
       "      <th>18</th>\n",
       "      <td>55-64</td>\n",
       "      <td>9.913363e+05</td>\n",
       "      <td>657121.565814</td>\n",
       "      <td>89151.465</td>\n",
       "      <td>1.737609e+06</td>\n",
       "      <td>2.171111e+06</td>\n",
       "      <td>3.908720e+06</td>\n",
       "    </tr>\n",
       "    <tr>\n",
       "      <th>19</th>\n",
       "      <td>65 and over</td>\n",
       "      <td>1.322000e+06</td>\n",
       "      <td>659437.508699</td>\n",
       "      <td>66215.295</td>\n",
       "      <td>2.047652e+06</td>\n",
       "      <td>4.275305e+06</td>\n",
       "      <td>6.322957e+06</td>\n",
       "    </tr>\n",
       "  </tbody>\n",
       "</table>\n",
       "</div>"
      ],
      "text/plain": [
       "    Type of ISA  Cash ISA(thousands)  Stocks & Shares ISA(thousands)  \\\n",
       "15        25-34         1.440505e+06                   620832.835068   \n",
       "16        35-44         1.064738e+06                   499827.056526   \n",
       "17        45-54         9.250893e+05                   590957.754424   \n",
       "18        55-64         9.913363e+05                   657121.565814   \n",
       "19  65 and over         1.322000e+06                   659437.508699   \n",
       "\n",
       "    Stocks & Shares and Cash ISA(thousands)  All Subscriptions(thousands)  \\\n",
       "15                               176979.465                  2.238318e+06   \n",
       "16                               108218.295                  1.672784e+06   \n",
       "17                                88426.110                  1.604473e+06   \n",
       "18                                89151.465                  1.737609e+06   \n",
       "19                                66215.295                  2.047652e+06   \n",
       "\n",
       "    No further subscription(thousands)  All ISA Holders(thousands)  \n",
       "15                        1.245049e+06                3.483367e+06  \n",
       "16                        1.727459e+06                3.400243e+06  \n",
       "17                        1.886547e+06                3.491020e+06  \n",
       "18                        2.171111e+06                3.908720e+06  \n",
       "19                        4.275305e+06                6.322957e+06  "
      ]
     },
     "execution_count": 20,
     "metadata": {},
     "output_type": "execute_result"
    }
   ],
   "source": [
    "savings_data.tail()"
   ]
  }
 ],
 "metadata": {
  "kernelspec": {
   "display_name": "Python 3",
   "language": "python",
   "name": "python3"
  },
  "language_info": {
   "codemirror_mode": {
    "name": "ipython",
    "version": 3
   },
   "file_extension": ".py",
   "mimetype": "text/x-python",
   "name": "python",
   "nbconvert_exporter": "python",
   "pygments_lexer": "ipython3",
   "version": "3.13.5"
  }
 },
 "nbformat": 4,
 "nbformat_minor": 5
}
