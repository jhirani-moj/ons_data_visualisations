{
 "cells": [
  {
   "cell_type": "markdown",
   "id": "6e2ac41b",
   "metadata": {},
   "source": [
    "# UK ISA, Savings & Investment Data Exploration\n",
    "Author: Jayen Hirani </br>\n",
    "Date: 25/07/2025"
   ]
  },
  {
   "cell_type": "markdown",
   "id": "7930197d",
   "metadata": {},
   "source": [
    "### Setup"
   ]
  },
  {
   "cell_type": "code",
   "execution_count": null,
   "id": "3e394751",
   "metadata": {},
   "outputs": [],
   "source": [
    "# Install necessary packages\n",
    "%pip install pandas numpy plotly odfpy nbformat"
   ]
  },
  {
   "cell_type": "code",
   "execution_count": 2,
   "id": "ebaa6a6d",
   "metadata": {},
   "outputs": [],
   "source": [
    "# Import Packages\n",
    "import pandas as pd\n",
    "import numpy as np\n",
    "import plotly.express as px"
   ]
  },
  {
   "cell_type": "markdown",
   "id": "b6922d3e",
   "metadata": {},
   "source": [
    "### Call UK Annual Savings Data\n",
    "Source: https://www.gov.uk/government/statistics/annual-savings-statistics-2024"
   ]
  },
  {
   "cell_type": "code",
   "execution_count": 3,
   "id": "d3a9f68f",
   "metadata": {},
   "outputs": [],
   "source": [
    "# Call UK Annual Savings Data\n",
    "savings_data = pd.read_excel('../data/Individual_Savings_Account_Tables_2024.ods', \n",
    "                             engine='odf',\n",
    "                             sheet_name='9_8_ISA_subs_by_age_sex',\n",
    "                             skiprows=5)\n",
    "\n",
    "# Drop the last two rows which are not needed\n",
    "savings_data = savings_data.drop(savings_data.index[-2:])\n"
   ]
  },
  {
   "cell_type": "code",
   "execution_count": 4,
   "id": "c0e703a5",
   "metadata": {},
   "outputs": [],
   "source": [
    "\n",
    "# Split the \"Type of ISA\" column into \"Gender\" and \"Age Range\" based on the string pattern\n",
    "\n",
    "def extract_gender_age(isa_type):\n",
    "    isa_type = str(isa_type) # Ensure it's a string\n",
    "\n",
    "    if 'Male' in isa_type:\n",
    "        gender = 'Male'\n",
    "        age = isa_type.replace('Male ', '')\n",
    "    elif 'Female' in isa_type:\n",
    "        gender = 'Female'\n",
    "        age = isa_type.replace('Female ', '')\n",
    "    else:\n",
    "        # If neither Male nor Female is present, categorize as 'Total' for Gender\n",
    "        gender = 'Total'\n",
    "        age = isa_type # Keep the original string as age\n",
    "\n",
    "    # Further refine 'age' for 'Total' entries\n",
    "    if age == 'Total':\n",
    "        age = 'All Ages'\n",
    "\n",
    "    return gender, age\n",
    "\n",
    "savings_data[['Gender', 'Age']] = savings_data['Type of ISA'].apply(lambda x: pd.Series(extract_gender_age(x)))\n",
    "\n",
    "# Drop the original 'Type of ISA' column\n",
    "savings_data = savings_data.drop(columns=['Type of ISA'])"
   ]
  },
  {
   "cell_type": "code",
   "execution_count": 5,
   "id": "35fb55cc",
   "metadata": {},
   "outputs": [
    {
     "data": {
      "application/vnd.microsoft.datawrangler.viewer.v0+json": {
       "columns": [
        {
         "name": "index",
         "rawType": "int64",
         "type": "integer"
        },
        {
         "name": "Cash ISA(thousands)",
         "rawType": "float64",
         "type": "float"
        },
        {
         "name": "Stocks & Shares ISA(thousands)",
         "rawType": "float64",
         "type": "float"
        },
        {
         "name": "Stocks & Shares and Cash ISA(thousands)",
         "rawType": "float64",
         "type": "float"
        },
        {
         "name": "All Subscriptions(thousands)",
         "rawType": "float64",
         "type": "float"
        },
        {
         "name": "No further subscription(thousands)",
         "rawType": "float64",
         "type": "float"
        },
        {
         "name": "All ISA Holders(thousands)",
         "rawType": "float64",
         "type": "float"
        },
        {
         "name": "Gender",
         "rawType": "object",
         "type": "string"
        },
        {
         "name": "Age",
         "rawType": "object",
         "type": "string"
        }
       ],
       "ref": "95614a5e-2e97-4f58-a971-9498780f8fac",
       "rows": [
        [
         "15",
         "1440505.4019000547",
         "620832.8350681028",
         "176979.465",
         "2238317.701968157",
         "1245049.1594211594",
         "3483366.8613893166",
         "Total",
         "25-34"
        ],
        [
         "16",
         "1064738.361075822",
         "499827.0565258637",
         "108218.295",
         "1672783.7126016857",
         "1727459.1862312357",
         "3400242.8988329214",
         "Total",
         "35-44"
        ],
        [
         "17",
         "925089.2857020812",
         "590957.7544243158",
         "88426.11",
         "1604473.150126397",
         "1886546.953155659",
         "3491020.103282056",
         "Total",
         "45-54"
        ],
        [
         "18",
         "991336.2780244906",
         "657121.5658135596",
         "89151.465",
         "1737609.30883805",
         "2171110.780689776",
         "3908720.0895278263",
         "Total",
         "55-64"
        ],
        [
         "19",
         "1321999.5469047509",
         "659437.5086986793",
         "66215.295",
         "2047652.35060343",
         "4275304.623810388",
         "6322956.974413818",
         "Total",
         "65 and over"
        ]
       ],
       "shape": {
        "columns": 8,
        "rows": 5
       }
      },
      "text/html": [
       "<div>\n",
       "<style scoped>\n",
       "    .dataframe tbody tr th:only-of-type {\n",
       "        vertical-align: middle;\n",
       "    }\n",
       "\n",
       "    .dataframe tbody tr th {\n",
       "        vertical-align: top;\n",
       "    }\n",
       "\n",
       "    .dataframe thead th {\n",
       "        text-align: right;\n",
       "    }\n",
       "</style>\n",
       "<table border=\"1\" class=\"dataframe\">\n",
       "  <thead>\n",
       "    <tr style=\"text-align: right;\">\n",
       "      <th></th>\n",
       "      <th>Cash ISA(thousands)</th>\n",
       "      <th>Stocks &amp; Shares ISA(thousands)</th>\n",
       "      <th>Stocks &amp; Shares and Cash ISA(thousands)</th>\n",
       "      <th>All Subscriptions(thousands)</th>\n",
       "      <th>No further subscription(thousands)</th>\n",
       "      <th>All ISA Holders(thousands)</th>\n",
       "      <th>Gender</th>\n",
       "      <th>Age</th>\n",
       "    </tr>\n",
       "  </thead>\n",
       "  <tbody>\n",
       "    <tr>\n",
       "      <th>15</th>\n",
       "      <td>1.440505e+06</td>\n",
       "      <td>620832.835068</td>\n",
       "      <td>176979.465</td>\n",
       "      <td>2.238318e+06</td>\n",
       "      <td>1.245049e+06</td>\n",
       "      <td>3.483367e+06</td>\n",
       "      <td>Total</td>\n",
       "      <td>25-34</td>\n",
       "    </tr>\n",
       "    <tr>\n",
       "      <th>16</th>\n",
       "      <td>1.064738e+06</td>\n",
       "      <td>499827.056526</td>\n",
       "      <td>108218.295</td>\n",
       "      <td>1.672784e+06</td>\n",
       "      <td>1.727459e+06</td>\n",
       "      <td>3.400243e+06</td>\n",
       "      <td>Total</td>\n",
       "      <td>35-44</td>\n",
       "    </tr>\n",
       "    <tr>\n",
       "      <th>17</th>\n",
       "      <td>9.250893e+05</td>\n",
       "      <td>590957.754424</td>\n",
       "      <td>88426.110</td>\n",
       "      <td>1.604473e+06</td>\n",
       "      <td>1.886547e+06</td>\n",
       "      <td>3.491020e+06</td>\n",
       "      <td>Total</td>\n",
       "      <td>45-54</td>\n",
       "    </tr>\n",
       "    <tr>\n",
       "      <th>18</th>\n",
       "      <td>9.913363e+05</td>\n",
       "      <td>657121.565814</td>\n",
       "      <td>89151.465</td>\n",
       "      <td>1.737609e+06</td>\n",
       "      <td>2.171111e+06</td>\n",
       "      <td>3.908720e+06</td>\n",
       "      <td>Total</td>\n",
       "      <td>55-64</td>\n",
       "    </tr>\n",
       "    <tr>\n",
       "      <th>19</th>\n",
       "      <td>1.322000e+06</td>\n",
       "      <td>659437.508699</td>\n",
       "      <td>66215.295</td>\n",
       "      <td>2.047652e+06</td>\n",
       "      <td>4.275305e+06</td>\n",
       "      <td>6.322957e+06</td>\n",
       "      <td>Total</td>\n",
       "      <td>65 and over</td>\n",
       "    </tr>\n",
       "  </tbody>\n",
       "</table>\n",
       "</div>"
      ],
      "text/plain": [
       "    Cash ISA(thousands)  Stocks & Shares ISA(thousands)  \\\n",
       "15         1.440505e+06                   620832.835068   \n",
       "16         1.064738e+06                   499827.056526   \n",
       "17         9.250893e+05                   590957.754424   \n",
       "18         9.913363e+05                   657121.565814   \n",
       "19         1.322000e+06                   659437.508699   \n",
       "\n",
       "    Stocks & Shares and Cash ISA(thousands)  All Subscriptions(thousands)  \\\n",
       "15                               176979.465                  2.238318e+06   \n",
       "16                               108218.295                  1.672784e+06   \n",
       "17                                88426.110                  1.604473e+06   \n",
       "18                                89151.465                  1.737609e+06   \n",
       "19                                66215.295                  2.047652e+06   \n",
       "\n",
       "    No further subscription(thousands)  All ISA Holders(thousands) Gender  \\\n",
       "15                        1.245049e+06                3.483367e+06  Total   \n",
       "16                        1.727459e+06                3.400243e+06  Total   \n",
       "17                        1.886547e+06                3.491020e+06  Total   \n",
       "18                        2.171111e+06                3.908720e+06  Total   \n",
       "19                        4.275305e+06                6.322957e+06  Total   \n",
       "\n",
       "            Age  \n",
       "15        25-34  \n",
       "16        35-44  \n",
       "17        45-54  \n",
       "18        55-64  \n",
       "19  65 and over  "
      ]
     },
     "execution_count": 5,
     "metadata": {},
     "output_type": "execute_result"
    }
   ],
   "source": [
    "savings_data.tail()"
   ]
  },
  {
   "cell_type": "code",
   "execution_count": 13,
   "id": "6e11f642",
   "metadata": {},
   "outputs": [
    {
     "data": {
      "application/vnd.plotly.v1+json": {
       "config": {
        "plotlyServerURL": "https://plot.ly"
       },
       "data": [
        {
         "hovertemplate": "<b>%{hovertext}</b><br><br>Gender=Male<br>Age Range=%{x}<br>Number (Thousands)=%{y}<extra></extra>",
         "hovertext": [
          "Male",
          "Male",
          "Male",
          "Male",
          "Male",
          "Male"
         ],
         "legendgroup": "Male",
         "marker": {
          "color": "#636efa",
          "pattern": {
           "shape": ""
          }
         },
         "name": "Male",
         "orientation": "v",
         "showlegend": true,
         "textposition": "auto",
         "type": "bar",
         "x": [
          "Under 25",
          "25-34",
          "35-44",
          "45-54",
          "55-64",
          "65 and over"
         ],
         "xaxis": "x",
         "y": {
          "bdata": "Micd2mBnKEEAr/8pdVo6Qd1DCQ7yWjlBjoQ8PenJOUEUEcEElOw7QXx6u71jBkdB",
          "dtype": "f8"
         },
         "yaxis": "y"
        },
        {
         "hovertemplate": "<b>%{hovertext}</b><br><br>Gender=Female<br>Age Range=%{x}<br>Number (Thousands)=%{y}<extra></extra>",
         "hovertext": [
          "Female",
          "Female",
          "Female",
          "Female",
          "Female",
          "Female"
         ],
         "legendgroup": "Female",
         "marker": {
          "color": "#EF553B",
          "pattern": {
           "shape": ""
          }
         },
         "name": "Female",
         "orientation": "v",
         "showlegend": true,
         "textposition": "auto",
         "type": "bar",
         "x": [
          "Under 25",
          "25-34",
          "35-44",
          "45-54",
          "55-64",
          "65 and over"
         ],
         "xaxis": "x",
         "y": {
          "bdata": "8dzmUHdKKkGiU4Syccw6QTWmENhAhzpBNJKb4OJ6O0GuKZ8L3Lc/QRAd/r4iN0lB",
          "dtype": "f8"
         },
         "yaxis": "y"
        }
       ],
       "layout": {
        "barmode": "relative",
        "legend": {
         "title": {
          "text": "Gender"
         },
         "tracegroupgap": 0
        },
        "template": {
         "data": {
          "bar": [
           {
            "error_x": {
             "color": "#2a3f5f"
            },
            "error_y": {
             "color": "#2a3f5f"
            },
            "marker": {
             "line": {
              "color": "#E5ECF6",
              "width": 0.5
             },
             "pattern": {
              "fillmode": "overlay",
              "size": 10,
              "solidity": 0.2
             }
            },
            "type": "bar"
           }
          ],
          "barpolar": [
           {
            "marker": {
             "line": {
              "color": "#E5ECF6",
              "width": 0.5
             },
             "pattern": {
              "fillmode": "overlay",
              "size": 10,
              "solidity": 0.2
             }
            },
            "type": "barpolar"
           }
          ],
          "carpet": [
           {
            "aaxis": {
             "endlinecolor": "#2a3f5f",
             "gridcolor": "white",
             "linecolor": "white",
             "minorgridcolor": "white",
             "startlinecolor": "#2a3f5f"
            },
            "baxis": {
             "endlinecolor": "#2a3f5f",
             "gridcolor": "white",
             "linecolor": "white",
             "minorgridcolor": "white",
             "startlinecolor": "#2a3f5f"
            },
            "type": "carpet"
           }
          ],
          "choropleth": [
           {
            "colorbar": {
             "outlinewidth": 0,
             "ticks": ""
            },
            "type": "choropleth"
           }
          ],
          "contour": [
           {
            "colorbar": {
             "outlinewidth": 0,
             "ticks": ""
            },
            "colorscale": [
             [
              0,
              "#0d0887"
             ],
             [
              0.1111111111111111,
              "#46039f"
             ],
             [
              0.2222222222222222,
              "#7201a8"
             ],
             [
              0.3333333333333333,
              "#9c179e"
             ],
             [
              0.4444444444444444,
              "#bd3786"
             ],
             [
              0.5555555555555556,
              "#d8576b"
             ],
             [
              0.6666666666666666,
              "#ed7953"
             ],
             [
              0.7777777777777778,
              "#fb9f3a"
             ],
             [
              0.8888888888888888,
              "#fdca26"
             ],
             [
              1,
              "#f0f921"
             ]
            ],
            "type": "contour"
           }
          ],
          "contourcarpet": [
           {
            "colorbar": {
             "outlinewidth": 0,
             "ticks": ""
            },
            "type": "contourcarpet"
           }
          ],
          "heatmap": [
           {
            "colorbar": {
             "outlinewidth": 0,
             "ticks": ""
            },
            "colorscale": [
             [
              0,
              "#0d0887"
             ],
             [
              0.1111111111111111,
              "#46039f"
             ],
             [
              0.2222222222222222,
              "#7201a8"
             ],
             [
              0.3333333333333333,
              "#9c179e"
             ],
             [
              0.4444444444444444,
              "#bd3786"
             ],
             [
              0.5555555555555556,
              "#d8576b"
             ],
             [
              0.6666666666666666,
              "#ed7953"
             ],
             [
              0.7777777777777778,
              "#fb9f3a"
             ],
             [
              0.8888888888888888,
              "#fdca26"
             ],
             [
              1,
              "#f0f921"
             ]
            ],
            "type": "heatmap"
           }
          ],
          "histogram": [
           {
            "marker": {
             "pattern": {
              "fillmode": "overlay",
              "size": 10,
              "solidity": 0.2
             }
            },
            "type": "histogram"
           }
          ],
          "histogram2d": [
           {
            "colorbar": {
             "outlinewidth": 0,
             "ticks": ""
            },
            "colorscale": [
             [
              0,
              "#0d0887"
             ],
             [
              0.1111111111111111,
              "#46039f"
             ],
             [
              0.2222222222222222,
              "#7201a8"
             ],
             [
              0.3333333333333333,
              "#9c179e"
             ],
             [
              0.4444444444444444,
              "#bd3786"
             ],
             [
              0.5555555555555556,
              "#d8576b"
             ],
             [
              0.6666666666666666,
              "#ed7953"
             ],
             [
              0.7777777777777778,
              "#fb9f3a"
             ],
             [
              0.8888888888888888,
              "#fdca26"
             ],
             [
              1,
              "#f0f921"
             ]
            ],
            "type": "histogram2d"
           }
          ],
          "histogram2dcontour": [
           {
            "colorbar": {
             "outlinewidth": 0,
             "ticks": ""
            },
            "colorscale": [
             [
              0,
              "#0d0887"
             ],
             [
              0.1111111111111111,
              "#46039f"
             ],
             [
              0.2222222222222222,
              "#7201a8"
             ],
             [
              0.3333333333333333,
              "#9c179e"
             ],
             [
              0.4444444444444444,
              "#bd3786"
             ],
             [
              0.5555555555555556,
              "#d8576b"
             ],
             [
              0.6666666666666666,
              "#ed7953"
             ],
             [
              0.7777777777777778,
              "#fb9f3a"
             ],
             [
              0.8888888888888888,
              "#fdca26"
             ],
             [
              1,
              "#f0f921"
             ]
            ],
            "type": "histogram2dcontour"
           }
          ],
          "mesh3d": [
           {
            "colorbar": {
             "outlinewidth": 0,
             "ticks": ""
            },
            "type": "mesh3d"
           }
          ],
          "parcoords": [
           {
            "line": {
             "colorbar": {
              "outlinewidth": 0,
              "ticks": ""
             }
            },
            "type": "parcoords"
           }
          ],
          "pie": [
           {
            "automargin": true,
            "type": "pie"
           }
          ],
          "scatter": [
           {
            "fillpattern": {
             "fillmode": "overlay",
             "size": 10,
             "solidity": 0.2
            },
            "type": "scatter"
           }
          ],
          "scatter3d": [
           {
            "line": {
             "colorbar": {
              "outlinewidth": 0,
              "ticks": ""
             }
            },
            "marker": {
             "colorbar": {
              "outlinewidth": 0,
              "ticks": ""
             }
            },
            "type": "scatter3d"
           }
          ],
          "scattercarpet": [
           {
            "marker": {
             "colorbar": {
              "outlinewidth": 0,
              "ticks": ""
             }
            },
            "type": "scattercarpet"
           }
          ],
          "scattergeo": [
           {
            "marker": {
             "colorbar": {
              "outlinewidth": 0,
              "ticks": ""
             }
            },
            "type": "scattergeo"
           }
          ],
          "scattergl": [
           {
            "marker": {
             "colorbar": {
              "outlinewidth": 0,
              "ticks": ""
             }
            },
            "type": "scattergl"
           }
          ],
          "scattermap": [
           {
            "marker": {
             "colorbar": {
              "outlinewidth": 0,
              "ticks": ""
             }
            },
            "type": "scattermap"
           }
          ],
          "scattermapbox": [
           {
            "marker": {
             "colorbar": {
              "outlinewidth": 0,
              "ticks": ""
             }
            },
            "type": "scattermapbox"
           }
          ],
          "scatterpolar": [
           {
            "marker": {
             "colorbar": {
              "outlinewidth": 0,
              "ticks": ""
             }
            },
            "type": "scatterpolar"
           }
          ],
          "scatterpolargl": [
           {
            "marker": {
             "colorbar": {
              "outlinewidth": 0,
              "ticks": ""
             }
            },
            "type": "scatterpolargl"
           }
          ],
          "scatterternary": [
           {
            "marker": {
             "colorbar": {
              "outlinewidth": 0,
              "ticks": ""
             }
            },
            "type": "scatterternary"
           }
          ],
          "surface": [
           {
            "colorbar": {
             "outlinewidth": 0,
             "ticks": ""
            },
            "colorscale": [
             [
              0,
              "#0d0887"
             ],
             [
              0.1111111111111111,
              "#46039f"
             ],
             [
              0.2222222222222222,
              "#7201a8"
             ],
             [
              0.3333333333333333,
              "#9c179e"
             ],
             [
              0.4444444444444444,
              "#bd3786"
             ],
             [
              0.5555555555555556,
              "#d8576b"
             ],
             [
              0.6666666666666666,
              "#ed7953"
             ],
             [
              0.7777777777777778,
              "#fb9f3a"
             ],
             [
              0.8888888888888888,
              "#fdca26"
             ],
             [
              1,
              "#f0f921"
             ]
            ],
            "type": "surface"
           }
          ],
          "table": [
           {
            "cells": {
             "fill": {
              "color": "#EBF0F8"
             },
             "line": {
              "color": "white"
             }
            },
            "header": {
             "fill": {
              "color": "#C8D4E3"
             },
             "line": {
              "color": "white"
             }
            },
            "type": "table"
           }
          ]
         },
         "layout": {
          "annotationdefaults": {
           "arrowcolor": "#2a3f5f",
           "arrowhead": 0,
           "arrowwidth": 1
          },
          "autotypenumbers": "strict",
          "coloraxis": {
           "colorbar": {
            "outlinewidth": 0,
            "ticks": ""
           }
          },
          "colorscale": {
           "diverging": [
            [
             0,
             "#8e0152"
            ],
            [
             0.1,
             "#c51b7d"
            ],
            [
             0.2,
             "#de77ae"
            ],
            [
             0.3,
             "#f1b6da"
            ],
            [
             0.4,
             "#fde0ef"
            ],
            [
             0.5,
             "#f7f7f7"
            ],
            [
             0.6,
             "#e6f5d0"
            ],
            [
             0.7,
             "#b8e186"
            ],
            [
             0.8,
             "#7fbc41"
            ],
            [
             0.9,
             "#4d9221"
            ],
            [
             1,
             "#276419"
            ]
           ],
           "sequential": [
            [
             0,
             "#0d0887"
            ],
            [
             0.1111111111111111,
             "#46039f"
            ],
            [
             0.2222222222222222,
             "#7201a8"
            ],
            [
             0.3333333333333333,
             "#9c179e"
            ],
            [
             0.4444444444444444,
             "#bd3786"
            ],
            [
             0.5555555555555556,
             "#d8576b"
            ],
            [
             0.6666666666666666,
             "#ed7953"
            ],
            [
             0.7777777777777778,
             "#fb9f3a"
            ],
            [
             0.8888888888888888,
             "#fdca26"
            ],
            [
             1,
             "#f0f921"
            ]
           ],
           "sequentialminus": [
            [
             0,
             "#0d0887"
            ],
            [
             0.1111111111111111,
             "#46039f"
            ],
            [
             0.2222222222222222,
             "#7201a8"
            ],
            [
             0.3333333333333333,
             "#9c179e"
            ],
            [
             0.4444444444444444,
             "#bd3786"
            ],
            [
             0.5555555555555556,
             "#d8576b"
            ],
            [
             0.6666666666666666,
             "#ed7953"
            ],
            [
             0.7777777777777778,
             "#fb9f3a"
            ],
            [
             0.8888888888888888,
             "#fdca26"
            ],
            [
             1,
             "#f0f921"
            ]
           ]
          },
          "colorway": [
           "#636efa",
           "#EF553B",
           "#00cc96",
           "#ab63fa",
           "#FFA15A",
           "#19d3f3",
           "#FF6692",
           "#B6E880",
           "#FF97FF",
           "#FECB52"
          ],
          "font": {
           "color": "#2a3f5f"
          },
          "geo": {
           "bgcolor": "white",
           "lakecolor": "white",
           "landcolor": "#E5ECF6",
           "showlakes": true,
           "showland": true,
           "subunitcolor": "white"
          },
          "hoverlabel": {
           "align": "left"
          },
          "hovermode": "closest",
          "mapbox": {
           "style": "light"
          },
          "paper_bgcolor": "white",
          "plot_bgcolor": "#E5ECF6",
          "polar": {
           "angularaxis": {
            "gridcolor": "white",
            "linecolor": "white",
            "ticks": ""
           },
           "bgcolor": "#E5ECF6",
           "radialaxis": {
            "gridcolor": "white",
            "linecolor": "white",
            "ticks": ""
           }
          },
          "scene": {
           "xaxis": {
            "backgroundcolor": "#E5ECF6",
            "gridcolor": "white",
            "gridwidth": 2,
            "linecolor": "white",
            "showbackground": true,
            "ticks": "",
            "zerolinecolor": "white"
           },
           "yaxis": {
            "backgroundcolor": "#E5ECF6",
            "gridcolor": "white",
            "gridwidth": 2,
            "linecolor": "white",
            "showbackground": true,
            "ticks": "",
            "zerolinecolor": "white"
           },
           "zaxis": {
            "backgroundcolor": "#E5ECF6",
            "gridcolor": "white",
            "gridwidth": 2,
            "linecolor": "white",
            "showbackground": true,
            "ticks": "",
            "zerolinecolor": "white"
           }
          },
          "shapedefaults": {
           "line": {
            "color": "#2a3f5f"
           }
          },
          "ternary": {
           "aaxis": {
            "gridcolor": "white",
            "linecolor": "white",
            "ticks": ""
           },
           "baxis": {
            "gridcolor": "white",
            "linecolor": "white",
            "ticks": ""
           },
           "bgcolor": "#E5ECF6",
           "caxis": {
            "gridcolor": "white",
            "linecolor": "white",
            "ticks": ""
           }
          },
          "title": {
           "x": 0.05
          },
          "xaxis": {
           "automargin": true,
           "gridcolor": "white",
           "linecolor": "white",
           "ticks": "",
           "title": {
            "standoff": 15
           },
           "zerolinecolor": "white",
           "zerolinewidth": 2
          },
          "yaxis": {
           "automargin": true,
           "gridcolor": "white",
           "linecolor": "white",
           "ticks": "",
           "title": {
            "standoff": 15
           },
           "zerolinecolor": "white",
           "zerolinewidth": 2
          }
         }
        },
        "title": {
         "text": "The Number of ISA Holders by Age"
        },
        "xaxis": {
         "anchor": "y",
         "domain": [
          0,
          1
         ],
         "title": {
          "text": "Age Range"
         }
        },
        "yaxis": {
         "anchor": "x",
         "domain": [
          0,
          1
         ],
         "title": {
          "text": "Number (Thousands)"
         }
        }
       }
      }
     },
     "metadata": {},
     "output_type": "display_data"
    }
   ],
   "source": [
    "fig_1 = px.bar(data_frame = savings_data[(savings_data['Gender'] != 'Total') & (savings_data['Age'] != 'All Ages')], \n",
    "               x='Age', y='All ISA Holders(thousands)',\n",
    "               title = 'The Number of ISA Holders by Age',\n",
    "               color = 'Gender',\n",
    "               labels={'Age': 'Age Range', 'All ISA Holders(thousands)': 'Number (Thousands)'},\n",
    "               hover_name='Gender')\n",
    "\n",
    "fig_1.show()"
   ]
  }
 ],
 "metadata": {
  "kernelspec": {
   "display_name": "Python 3",
   "language": "python",
   "name": "python3"
  },
  "language_info": {
   "codemirror_mode": {
    "name": "ipython",
    "version": 3
   },
   "file_extension": ".py",
   "mimetype": "text/x-python",
   "name": "python",
   "nbconvert_exporter": "python",
   "pygments_lexer": "ipython3",
   "version": "3.13.5"
  }
 },
 "nbformat": 4,
 "nbformat_minor": 5
}
